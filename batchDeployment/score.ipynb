{
 "cells": [
  {
   "cell_type": "code",
   "execution_count": 1,
   "metadata": {},
   "outputs": [],
   "source": [
    "import pandas as pd\n",
    "import numpy as np\n",
    "\n",
    "from sklearn.feature_extraction import DictVectorizer\n",
    "from sklearn.linear_model import LinearRegression, Ridge, Lasso\n",
    "from sklearn.metrics import root_mean_squared_error\n",
    "from sklearn.pipeline import Pipeline, FeatureUnion\n",
    "from sklearn.base import BaseEstimator, RegressorMixin\n",
    "from sklearn.preprocessing import FunctionTransformer\n",
    "import xgboost as xgb\n",
    "\n",
    "import seaborn as sns\n",
    "import matplotlib.pyplot as plt\n",
    "\n",
    "import mlflow\n",
    "\n",
    "import pickle\n",
    "import pathlib\n",
    "import os\n",
    "import uuid"
   ]
  },
  {
   "cell_type": "code",
   "execution_count": 2,
   "metadata": {},
   "outputs": [],
   "source": [
    "year = 2021\n",
    "month = 3\n",
    "taxi_type = \"green\"\n",
    "\n",
    "input_file = f\"https://d37ci6vzurychx.cloudfront.net/trip-data/{taxi_type}_tripdata_{year:04d}-{month:02d}.parquet\"\n",
    "output_file = f\"./output/{taxi_type}_tripdata_{year:04d}-{month:02d}.parquet\"\n",
    "\n",
    "RUN_ID = os.getenv(\"RUN_ID\")\n"
   ]
  },
  {
   "cell_type": "code",
   "execution_count": 3,
   "metadata": {},
   "outputs": [],
   "source": [
    "def read_data(filename):\n",
    "    df = pd.read_parquet(filename)\n",
    "\n",
    "    df[\"duration\"] = df.lpep_dropoff_datetime - df.lpep_pickup_datetime\n",
    "    \n",
    "    df[\"duration\"] = df.duration.apply(lambda x: x.total_seconds()/60)\n",
    "    \n",
    "    df = df[(df.duration >= 1) & (df.duration <= 60)]\n",
    "\n",
    "    ride_ids = [str(uuid.uuid4()) for _ in range(len(df))]\n",
    "    df[\"ride_id\"] = ride_ids\n",
    "    \n",
    "    categorical = [\"PULocationID\", \"DOLocationID\"]\n",
    "    \n",
    "    df[categorical] = df[categorical].astype(str)\n",
    "\n",
    "    return df"
   ]
  },
  {
   "cell_type": "code",
   "execution_count": 4,
   "metadata": {},
   "outputs": [],
   "source": [
    "def prepare_data(df):\n",
    "    df['PU_DU'] = df[\"PULocationID\"] + '_' + df[\"DOLocationID\"]\n",
    "\n",
    "    categorical = [\"PU_DU\"]\n",
    "    numeric = [\"trip_distance\"]\n",
    "\n",
    "    dicts = df[categorical + numeric].to_dict(orient=\"records\")\n",
    "\n",
    "    return dicts\n"
   ]
  },
  {
   "cell_type": "code",
   "execution_count": 5,
   "metadata": {},
   "outputs": [],
   "source": [
    "def load_model(run_id):\n",
    "    logged_model = f\"gs://mlflow_artifacts_nyc_taxi/1/{RUN_ID}/artifacts/models_mlflow\"\n",
    "    model = mlflow.pyfunc.load_model(logged_model)\n",
    "\n",
    "    return model"
   ]
  },
  {
   "cell_type": "code",
   "execution_count": 6,
   "metadata": {},
   "outputs": [],
   "source": [
    "def apply_model(input_file, run_id, output_file):\n",
    "    df= read_data(input_file)\n",
    "    dicts = prepare_data(df)\n",
    "\n",
    "    model = load_model(run_id)\n",
    "    y_pred = model.predict(dicts)\n",
    "\n",
    "    df_results = df[['ride_id', \"lpep_pickup_datetime\", \"PULocationID\", \"DOLocationID\", \"duration\"]].copy()\n",
    "    df_results.rename(columns={\"duration\": \"actual_duration\"}, inplace=True)\n",
    "    df_results[\"predicted_duration\"] = y_pred\n",
    "    df_results[\"diff\"] = df_results[\"predicted_duration\"] - df_results[\"actual_duration\"]\n",
    "    df_results[\"model_version\"] = run_id\n",
    "\n",
    "    !mkdir output\n",
    "    df_results.to_parquet(output_file)"
   ]
  },
  {
   "cell_type": "code",
   "execution_count": 7,
   "metadata": {},
   "outputs": [
    {
     "data": {
      "application/vnd.jupyter.widget-view+json": {
       "model_id": "b280359d16424494980ecbb1c704d935",
       "version_major": 2,
       "version_minor": 0
      },
      "text/plain": [
       "Downloading artifacts:   0%|          | 0/9 [00:00<?, ?it/s]"
      ]
     },
     "metadata": {},
     "output_type": "display_data"
    },
    {
     "name": "stderr",
     "output_type": "stream",
     "text": [
      "A subdirectory or file output already exists.\n"
     ]
    }
   ],
   "source": [
    "apply_model(input_file, RUN_ID, output_file)"
   ]
  },
  {
   "cell_type": "code",
   "execution_count": null,
   "metadata": {},
   "outputs": [],
   "source": []
  },
  {
   "cell_type": "code",
   "execution_count": null,
   "metadata": {},
   "outputs": [],
   "source": []
  }
 ],
 "metadata": {
  "kernelspec": {
   "display_name": "tf",
   "language": "python",
   "name": "python3"
  },
  "language_info": {
   "codemirror_mode": {
    "name": "ipython",
    "version": 3
   },
   "file_extension": ".py",
   "mimetype": "text/x-python",
   "name": "python",
   "nbconvert_exporter": "python",
   "pygments_lexer": "ipython3",
   "version": "3.10.8"
  }
 },
 "nbformat": 4,
 "nbformat_minor": 2
}
